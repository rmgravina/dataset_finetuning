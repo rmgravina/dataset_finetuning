{
 "cells": [
  {
   "cell_type": "code",
   "execution_count": 1,
   "metadata": {},
   "outputs": [],
   "source": [
    "from pprint import pprint\n",
    "import jsonlines\n",
    "import pandas as pd\n",
    "from dotenv import load_dotenv\n",
    "import openai\n",
    "import os\n",
    "import time\n",
    "from datetime import datetime\n",
    "from tqdm import tqdm\n",
    "\n",
    "\n",
    "load_dotenv()\n",
    "openai.api_key = os.getenv(\"OPENAI_API_KEY\")"
   ]
  },
  {
   "cell_type": "markdown",
   "metadata": {},
   "source": [
    "#### Importar dataset"
   ]
  },
  {
   "cell_type": "code",
   "execution_count": 2,
   "metadata": {},
   "outputs": [
    {
     "data": {
      "text/plain": [
       "0"
      ]
     },
     "execution_count": 2,
     "metadata": {},
     "output_type": "execute_result"
    }
   ],
   "source": [
    "df = pd.read_csv(\"dataset/output/dataset.csv\")\n",
    "df['chunk'].isnull().sum()"
   ]
  },
  {
   "cell_type": "code",
   "execution_count": 3,
   "metadata": {},
   "outputs": [
    {
     "data": {
      "text/plain": [
       "0    Susep pretende elevar concorrência no mercado ...\n",
       "1     Como ex-conselheiro do Conselho Administrativ...\n",
       "2     Leia a seguir a entrevista ao JOTA do superin...\n",
       "3     Os Estados Unidos, por exemplo, com a interne...\n",
       "4    A sua gestão, então, mais do que regular quer ...\n",
       "Name: chunk, dtype: object"
      ]
     },
     "execution_count": 3,
     "metadata": {},
     "output_type": "execute_result"
    }
   ],
   "source": [
    "df['chunk'][:5]"
   ]
  },
  {
   "cell_type": "markdown",
   "metadata": {},
   "source": [
    "#### Prompt Template:\n",
    "\n",
    "Nessa seção será definida a estrutura do _template_ que será utilizado para a geração dos _prompts_.\n",
    "\n",
    "O template é composto por uma lista de _strings_, onde cada _string_ representa uma linha do _prompt_. Ele será definido na variável ``prompt_template`` e pode ser alterado conforme a necessidade."
   ]
  },
  {
   "cell_type": "code",
   "execution_count": 4,
   "metadata": {},
   "outputs": [],
   "source": [
    "prompt_template = \"\"\"Sua Tarefa é resumir ao máximo o Texto fornecido, porém mantendo os principais pontos. \n",
    "\n",
    "### Texto:\n",
    "{input}\n",
    "\n",
    "### Resumo:\"\"\""
   ]
  },
  {
   "cell_type": "code",
   "execution_count": null,
   "metadata": {},
   "outputs": [],
   "source": [
    "# criar uma estrutura de dicionário com input e output:\n",
    "#{'input': 'prompt_template.format(input)', 'output': 'resumo'}"
   ]
  },
  {
   "cell_type": "code",
   "execution_count": 5,
   "metadata": {},
   "outputs": [
    {
     "name": "stdout",
     "output_type": "stream",
     "text": [
      "Sua Tarefa é resumir ao máximo o Texto fornecido, porém mantendo os principais pontos. \n",
      "\n",
      "### Texto:\n",
      "Susep pretende elevar concorrência no mercado e ajudar startups com créditoSuperintendente da autarquia detalha agenda regulatória para o setor de seguros e avalia riscos no Marco Legal das GarantiasAlessandro Octaviani assumiu o comando da Superintendência de Seguros Privados (Susep) em março. Mas o advogado, com mestrado em Ciência Política e doutorado em Direito Econômico e Financeiro, ficou quase três meses sem conseguir compor o colegiado de cinco integrantes na diretoria da autarquia responsável por fiscalizar um setor que, em 2022, movimentou R$ 355,9 bilhões em arrecadação e R$ 219,4 bilhões em pagamento de indenizações, benefícios, resgates e sorteios. Ele diz, em entrevista ao JOTA, que as nomeações, que passam pelo aval do Ministério da Fazenda e da Casa Civil, envolvem “uma decisão do poder político”. Octaviani afirma, contudo, que com dois diretores já nomeados há maioria para “fazer o órgão funcionar”.Ele lista, agora, as metas da agenda regulatória da Susep\n",
      "\n",
      "### Resumo:\n",
      "\n",
      "Sua Tarefa é resumir ao máximo o Texto fornecido, porém mantendo os principais pontos. \n",
      "\n",
      "### Texto:\n",
      " Como ex-conselheiro do Conselho Administrativo de Defesa Econômica (Cade), Octaviani mira na pulverização dos competidores do mercado segurador. Pretende buscar rotas de financiamento no BNDES e Banco do Brasil para insurtechs (startups), alvo do programa Sandbox. “Um dos papéis da Susep é fomentar o mercado e, para isso, temos que fomentar a concorrência”, afirma.Reconhece a necessidade de melhorar a implementação do Open Insurance, projeto similar ao Open Banking, que vai permitir o compartilhamento de dados e promete facilitar a vida do consumidor na hora contratar seguros. O projeto está atrasado e tem sido alvo de críticas das seguradoras, que reclamaram do prazo curto para aderir à segunda fase do programa. Octaviani avalia, ainda, que o uso de apólices para empréstimos previsto no Marco Legal das Garantias, proposto pelo ministro Fernando Haddad, precisa ser acompanhado de métricas de risco para não repetirmos a crise do subprime dos EUA (2008)\n",
      "\n",
      "### Resumo:\n",
      "\n",
      "Sua Tarefa é resumir ao máximo o Texto fornecido, porém mantendo os principais pontos. \n",
      "\n",
      "### Texto:\n",
      " Leia a seguir a entrevista ao JOTA do superintendente da Susep:Quais os principais temas da sua gestão?Temos um grande eixo, previsto no decreto lei 73/1966 e na Constituição. A Susep tem de fazer o setor de seguros atuar para o desenvolvimento nacional. O primeiro eixo é a política de neoindustrialização. O segundo é a política de infraestrutura. Em terceiro, é a política de acesso a bens — o acesso ao seguro, nesse caso. O quarto eixo é a transição ecológica. O quinto eixo é a digitalização da economia, o cyber risk. Esses eixos são grandes desafios, mas grandes oportunidades para a economia brasileira. Para cada um desses desafios e oportunidades, o seguro é muito importante. O que seria atuar no eixo da industrialização?Nos últimos 40 anos, pode-se afirmar que o desempenho da indústria brasileira foi intermitente. Não foi o eixo robusto como gostaríamos. Há períodos que avançou um pouquinho, há período que não avançou. O fato é que o mundo avançou demais na capacidade de produzir novos produtos\n",
      "\n",
      "### Resumo:\n",
      "\n"
     ]
    }
   ],
   "source": [
    "for i in df['chunk'][:3]:\n",
    "\n",
    "    print(prompt_template.format(input=i))\n",
    "    print(\"\")"
   ]
  },
  {
   "cell_type": "code",
   "execution_count": 6,
   "metadata": {},
   "outputs": [
    {
     "name": "stderr",
     "output_type": "stream",
     "text": [
      "  8%|▊         | 155/1901 [00:00<00:01, 1541.67it/s]"
     ]
    },
    {
     "name": "stdout",
     "output_type": "stream",
     "text": [
      "Documento 150200_chunk-0.txt já foi processado!\n",
      "Documento 150200_chunk-1.txt já foi processado!\n",
      "Documento 150200_chunk-2.txt já foi processado!\n",
      "Documento 150200_chunk-3.txt já foi processado!\n",
      "Documento 150200_chunk-4.txt já foi processado!\n",
      "Documento 150200_chunk-5.txt já foi processado!\n",
      "Documento 150200_chunk-6.txt já foi processado!\n",
      "Documento 150200_chunk-7.txt já foi processado!\n",
      "Documento 150200_chunk-8.txt já foi processado!\n",
      "Documento 150200_chunk-9.txt já foi processado!\n",
      "Documento 150200_chunk-10.txt já foi processado!\n",
      "Documento 150200_chunk-11.txt já foi processado!\n",
      "Documento 150200_chunk-12.txt já foi processado!\n",
      "Documento 150200_chunk-13.txt já foi processado!\n",
      "Documento 150201_chunk-14.txt já foi processado!\n",
      "Documento 150201_chunk-15.txt já foi processado!\n",
      "Documento 150202_chunk-16.txt já foi processado!\n",
      "Documento 150202_chunk-17.txt já foi processado!\n",
      "Documento 150202_chunk-18.txt já foi processado!\n",
      "Documento 150203_chunk-19.txt já foi processado!\n",
      "Documento 150203_chunk-20.txt já foi processado!\n",
      "Documento 150203_chunk-21.txt já foi processado!\n",
      "Documento 150204_chunk-22.txt já foi processado!\n",
      "Documento 150204_chunk-23.txt já foi processado!\n",
      "Documento 150204_chunk-24.txt já foi processado!\n",
      "Documento 150204_chunk-25.txt já foi processado!\n",
      "Documento 150205_chunk-26.txt já foi processado!\n",
      "Documento 150205_chunk-27.txt já foi processado!\n",
      "Documento 150205_chunk-28.txt já foi processado!\n",
      "Documento 150206_chunk-29.txt já foi processado!\n",
      "Documento 150206_chunk-30.txt já foi processado!\n",
      "Documento 150206_chunk-31.txt já foi processado!\n",
      "Documento 150206_chunk-32.txt já foi processado!\n",
      "Documento 150207_chunk-33.txt já foi processado!\n",
      "Documento 150207_chunk-34.txt já foi processado!\n",
      "Documento 150208_chunk-35.txt já foi processado!\n",
      "Documento 150208_chunk-36.txt já foi processado!\n",
      "Documento 150209_chunk-37.txt já foi processado!\n",
      "Documento 150209_chunk-38.txt já foi processado!\n",
      "Documento 150209_chunk-39.txt já foi processado!\n",
      "Documento 150210_chunk-40.txt já foi processado!\n",
      "Documento 150210_chunk-41.txt já foi processado!\n",
      "Documento 150210_chunk-42.txt já foi processado!\n",
      "Documento 150210_chunk-43.txt já foi processado!\n",
      "Documento 150211_chunk-44.txt já foi processado!\n",
      "Documento 150211_chunk-45.txt já foi processado!\n",
      "Documento 150211_chunk-46.txt já foi processado!\n",
      "Documento 150212_chunk-47.txt já foi processado!\n",
      "Documento 150212_chunk-48.txt já foi processado!\n",
      "Documento 150212_chunk-49.txt já foi processado!\n",
      "Documento 150212_chunk-50.txt já foi processado!\n",
      "Documento 150212_chunk-51.txt já foi processado!\n",
      "Documento 150212_chunk-52.txt já foi processado!\n",
      "Documento 150212_chunk-53.txt já foi processado!\n",
      "Documento 150212_chunk-54.txt já foi processado!\n",
      "Documento 150212_chunk-55.txt já foi processado!\n",
      "Documento 150212_chunk-56.txt já foi processado!\n",
      "Documento 150212_chunk-57.txt já foi processado!\n",
      "Documento 150213_chunk-58.txt já foi processado!\n",
      "Documento 150213_chunk-59.txt já foi processado!\n",
      "Documento 150213_chunk-60.txt já foi processado!\n",
      "Documento 150214_chunk-61.txt já foi processado!\n",
      "Documento 150214_chunk-62.txt já foi processado!\n",
      "Documento 150215_chunk-63.txt já foi processado!\n",
      "Documento 150215_chunk-64.txt já foi processado!\n",
      "Documento 150215_chunk-65.txt já foi processado!\n",
      "Documento 150216_chunk-66.txt já foi processado!\n",
      "Documento 150216_chunk-67.txt já foi processado!\n",
      "Documento 150217_chunk-68.txt já foi processado!\n",
      "Documento 150217_chunk-69.txt já foi processado!\n",
      "Documento 150217_chunk-70.txt já foi processado!\n",
      "Documento 150218_chunk-71.txt já foi processado!\n",
      "Documento 150218_chunk-72.txt já foi processado!\n",
      "Documento 150218_chunk-73.txt já foi processado!\n",
      "Documento 150218_chunk-74.txt já foi processado!\n",
      "Documento 150219_chunk-75.txt já foi processado!\n",
      "Documento 150219_chunk-76.txt já foi processado!\n",
      "Documento 150220_chunk-77.txt já foi processado!\n",
      "Documento 150220_chunk-78.txt já foi processado!\n",
      "Documento 150220_chunk-79.txt já foi processado!\n",
      "Documento 150220_chunk-80.txt já foi processado!\n",
      "Documento 150221_chunk-81.txt já foi processado!\n",
      "Documento 150222_chunk-82.txt já foi processado!\n",
      "Documento 150222_chunk-83.txt já foi processado!\n",
      "Documento 150222_chunk-84.txt já foi processado!\n",
      "Documento 150223_chunk-85.txt já foi processado!\n",
      "Documento 150223_chunk-86.txt já foi processado!\n",
      "Documento 150223_chunk-87.txt já foi processado!\n",
      "Documento 150223_chunk-88.txt já foi processado!\n",
      "Documento 150224_chunk-89.txt já foi processado!\n",
      "Documento 150225_chunk-90.txt já foi processado!\n",
      "Documento 150226_chunk-91.txt já foi processado!\n",
      "Documento 150226_chunk-92.txt já foi processado!\n",
      "Documento 150226_chunk-93.txt já foi processado!\n",
      "Documento 150227_chunk-94.txt já foi processado!\n",
      "Documento 150227_chunk-95.txt já foi processado!\n",
      "Documento 150228_chunk-96.txt já foi processado!\n",
      "Documento 150229_chunk-97.txt já foi processado!\n",
      "Documento 150229_chunk-98.txt já foi processado!\n",
      "Documento 150230_chunk-99.txt já foi processado!\n",
      "Documento 150230_chunk-100.txt já foi processado!\n",
      "Documento 150230_chunk-101.txt já foi processado!\n",
      "Documento 150230_chunk-102.txt já foi processado!\n",
      "Documento 150230_chunk-103.txt já foi processado!\n",
      "Documento 150230_chunk-104.txt já foi processado!\n",
      "Documento 150230_chunk-105.txt já foi processado!\n",
      "Documento 150230_chunk-106.txt já foi processado!\n",
      "Documento 150230_chunk-107.txt já foi processado!\n",
      "Documento 150230_chunk-108.txt já foi processado!\n",
      "Documento 150230_chunk-109.txt já foi processado!\n",
      "Documento 150230_chunk-110.txt já foi processado!\n",
      "Documento 150230_chunk-111.txt já foi processado!\n",
      "Documento 150230_chunk-112.txt já foi processado!\n",
      "Documento 150230_chunk-113.txt já foi processado!\n",
      "Documento 150230_chunk-114.txt já foi processado!\n",
      "Documento 150231_chunk-115.txt já foi processado!\n",
      "Documento 150231_chunk-116.txt já foi processado!\n",
      "Documento 150231_chunk-117.txt já foi processado!\n",
      "Documento 150231_chunk-118.txt já foi processado!\n",
      "Documento 150231_chunk-119.txt já foi processado!\n",
      "Documento 150231_chunk-120.txt já foi processado!\n",
      "Documento 150232_chunk-121.txt já foi processado!\n",
      "Documento 150232_chunk-122.txt já foi processado!\n",
      "Documento 150232_chunk-123.txt já foi processado!\n",
      "Documento 150232_chunk-124.txt já foi processado!\n",
      "Documento 150232_chunk-125.txt já foi processado!\n",
      "Documento 150233_chunk-126.txt já foi processado!\n",
      "Documento 150233_chunk-127.txt já foi processado!\n",
      "Documento 150233_chunk-128.txt já foi processado!\n",
      "Documento 150233_chunk-129.txt já foi processado!\n",
      "Documento 150233_chunk-130.txt já foi processado!\n",
      "Documento 150233_chunk-131.txt já foi processado!\n",
      "Documento 150233_chunk-132.txt já foi processado!\n",
      "Documento 150233_chunk-133.txt já foi processado!\n",
      "Documento 150234_chunk-134.txt já foi processado!\n",
      "Documento 150234_chunk-135.txt já foi processado!\n",
      "Documento 150235_chunk-136.txt já foi processado!\n",
      "Documento 150235_chunk-137.txt já foi processado!\n",
      "Documento 150235_chunk-138.txt já foi processado!\n",
      "Documento 150237_chunk-139.txt já foi processado!\n",
      "Documento 150237_chunk-140.txt já foi processado!\n",
      "Documento 150237_chunk-141.txt já foi processado!\n",
      "Documento 150237_chunk-142.txt já foi processado!\n",
      "Documento 150237_chunk-143.txt já foi processado!\n",
      "Documento 150238_chunk-144.txt já foi processado!\n",
      "Documento 150238_chunk-145.txt já foi processado!\n",
      "Documento 150238_chunk-146.txt já foi processado!\n",
      "Documento 150238_chunk-147.txt já foi processado!\n",
      "Documento 150238_chunk-148.txt já foi processado!\n",
      "Documento 150238_chunk-149.txt já foi processado!\n",
      "Documento 150239_chunk-150.txt já foi processado!\n",
      "Documento 150239_chunk-151.txt já foi processado!\n",
      "Documento 150239_chunk-152.txt já foi processado!\n",
      "Documento 150240_chunk-153.txt já foi processado!\n",
      "Documento 150241_chunk-154.txt já foi processado!\n",
      "Documento 150241_chunk-155.txt já foi processado!\n",
      "Documento 150241_chunk-156.txt já foi processado!\n",
      "Documento 150241_chunk-157.txt já foi processado!\n",
      "Documento 150241_chunk-158.txt já foi processado!\n",
      "Documento 150242_chunk-159.txt já foi processado!\n",
      "Documento 150242_chunk-160.txt já foi processado!\n",
      "Documento 150243_chunk-161.txt já foi processado!\n",
      "Documento 150243_chunk-162.txt já foi processado!\n",
      "Documento 150243_chunk-163.txt já foi processado!\n",
      "Documento 150243_chunk-164.txt já foi processado!\n",
      "Documento 150244_chunk-165.txt já foi processado!\n",
      "Documento 150244_chunk-166.txt já foi processado!\n",
      "Documento 150244_chunk-167.txt já foi processado!\n",
      "Documento 150245_chunk-168.txt já foi processado!\n",
      "Documento 150245_chunk-169.txt já foi processado!\n",
      "Documento 150246_chunk-170.txt já foi processado!\n",
      "Documento 150246_chunk-171.txt já foi processado!\n",
      "Documento 150246_chunk-172.txt já foi processado!\n",
      "Documento 150247_chunk-173.txt já foi processado!\n",
      "Documento 150247_chunk-174.txt já foi processado!\n",
      "Documento 150247_chunk-175.txt já foi processado!\n",
      "Documento 150247_chunk-176.txt já foi processado!\n",
      "Documento 150247_chunk-177.txt já foi processado!\n",
      "Documento 150247_chunk-178.txt já foi processado!\n",
      "Documento 150247_chunk-179.txt já foi processado!\n",
      "Documento 150247_chunk-180.txt já foi processado!\n",
      "Documento 150248_chunk-181.txt já foi processado!\n",
      "Documento 150248_chunk-182.txt já foi processado!\n",
      "Documento 150248_chunk-183.txt já foi processado!\n",
      "Documento 150249_chunk-184.txt já foi processado!\n",
      "Documento 150249_chunk-185.txt já foi processado!\n",
      "Documento 150249_chunk-186.txt já foi processado!\n",
      "Documento 150249_chunk-187.txt já foi processado!\n",
      "Documento 150250_chunk-188.txt já foi processado!\n",
      "Documento 150250_chunk-189.txt já foi processado!\n",
      "Documento 150251_chunk-190.txt já foi processado!\n",
      "Documento 150251_chunk-191.txt já foi processado!\n",
      "Documento 150251_chunk-192.txt já foi processado!\n",
      "Documento 150251_chunk-193.txt já foi processado!\n",
      "Documento 150252_chunk-194.txt já foi processado!\n",
      "Documento 150252_chunk-195.txt já foi processado!\n",
      "Documento 150252_chunk-196.txt já foi processado!\n",
      "Documento 150252_chunk-197.txt já foi processado!\n",
      "Documento 150253_chunk-198.txt já foi processado!\n",
      "Documento 150253_chunk-199.txt já foi processado!\n",
      "Documento 150253_chunk-200.txt já foi processado!\n",
      "Documento 150253_chunk-201.txt já foi processado!\n",
      "Documento 150253_chunk-202.txt já foi processado!\n",
      "Documento 150253_chunk-203.txt já foi processado!\n",
      "Documento 150253_chunk-204.txt já foi processado!\n",
      "Documento 150254_chunk-205.txt já foi processado!\n",
      "Documento 150254_chunk-206.txt já foi processado!\n",
      "Documento 150254_chunk-207.txt já foi processado!\n",
      "Documento 150254_chunk-208.txt já foi processado!\n",
      "Documento 150255_chunk-209.txt já foi processado!\n",
      "Documento 150256_chunk-210.txt já foi processado!\n",
      "Documento 150256_chunk-211.txt já foi processado!\n",
      "Documento 150256_chunk-212.txt já foi processado!\n",
      "Documento 150257_chunk-213.txt já foi processado!\n",
      "Documento 150257_chunk-214.txt já foi processado!\n",
      "Documento 150257_chunk-215.txt já foi processado!\n",
      "Documento 150258_chunk-216.txt já foi processado!\n",
      "Documento 150258_chunk-217.txt já foi processado!\n",
      "Documento 150258_chunk-218.txt já foi processado!\n",
      "Documento 150258_chunk-219.txt já foi processado!\n",
      "Documento 150258_chunk-220.txt já foi processado!\n",
      "Documento 150258_chunk-221.txt já foi processado!\n",
      "Documento 150258_chunk-222.txt já foi processado!\n",
      "Documento 150258_chunk-223.txt já foi processado!\n",
      "Documento 150258_chunk-224.txt já foi processado!\n",
      "Documento 150259_chunk-225.txt já foi processado!\n",
      "Documento 150259_chunk-226.txt já foi processado!\n",
      "Documento 150260_chunk-227.txt já foi processado!\n",
      "Documento 150260_chunk-228.txt já foi processado!\n",
      "Documento 150260_chunk-229.txt já foi processado!\n",
      "Documento 150260_chunk-230.txt já foi processado!\n",
      "Documento 150260_chunk-231.txt já foi processado!\n",
      "Documento 150261_chunk-232.txt já foi processado!\n",
      "Documento 150261_chunk-233.txt já foi processado!\n",
      "Documento 150261_chunk-234.txt já foi processado!\n",
      "Documento 150261_chunk-235.txt já foi processado!\n",
      "Documento 150262_chunk-236.txt já foi processado!\n",
      "Documento 150262_chunk-237.txt já foi processado!\n",
      "Documento 150263_chunk-238.txt já foi processado!\n",
      "Documento 150263_chunk-239.txt já foi processado!\n",
      "Documento 150263_chunk-240.txt já foi processado!\n",
      "Documento 150263_chunk-241.txt já foi processado!\n",
      "Documento 150263_chunk-242.txt já foi processado!\n",
      "Documento 150264_chunk-243.txt já foi processado!\n",
      "Documento 150264_chunk-244.txt já foi processado!\n",
      "Documento 150264_chunk-245.txt já foi processado!\n",
      "Documento 150265_chunk-246.txt já foi processado!\n",
      "Documento 150265_chunk-247.txt já foi processado!\n",
      "Documento 150265_chunk-248.txt já foi processado!\n",
      "Documento 150265_chunk-249.txt já foi processado!\n",
      "Documento 150266_chunk-250.txt já foi processado!\n",
      "Documento 150266_chunk-251.txt já foi processado!\n",
      "Documento 150266_chunk-252.txt já foi processado!\n",
      "Documento 150266_chunk-253.txt já foi processado!\n",
      "Documento 150266_chunk-254.txt já foi processado!\n",
      "Documento 150267_chunk-255.txt já foi processado!\n",
      "Documento 150267_chunk-256.txt já foi processado!\n",
      "Documento 150267_chunk-257.txt já foi processado!\n",
      "Documento 150267_chunk-258.txt já foi processado!\n",
      "Documento 150267_chunk-259.txt já foi processado!\n",
      "Documento 150268_chunk-260.txt já foi processado!\n",
      "Documento 150268_chunk-261.txt já foi processado!\n",
      "Documento 150268_chunk-262.txt já foi processado!\n",
      "Documento 150268_chunk-263.txt já foi processado!\n",
      "Documento 150270_chunk-264.txt já foi processado!\n",
      "Documento 150271_chunk-265.txt já foi processado!\n",
      "Documento 150271_chunk-266.txt já foi processado!\n",
      "Documento 150271_chunk-267.txt já foi processado!\n",
      "Documento 150271_chunk-268.txt já foi processado!\n",
      "Documento 150271_chunk-269.txt já foi processado!\n",
      "Documento 150272_chunk-270.txt já foi processado!\n",
      "Documento 150272_chunk-271.txt já foi processado!\n"
     ]
    },
    {
     "name": "stderr",
     "output_type": "stream",
     "text": [
      " 16%|█▋        | 310/1901 [00:00<00:01, 1338.69it/s]"
     ]
    },
    {
     "name": "stdout",
     "output_type": "stream",
     "text": [
      "Documento 150272_chunk-272.txt já foi processado!\n",
      "Documento 150272_chunk-273.txt já foi processado!\n",
      "Documento 150272_chunk-274.txt já foi processado!\n",
      "Documento 150272_chunk-275.txt já foi processado!\n",
      "Documento 150272_chunk-276.txt já foi processado!\n",
      "Documento 150272_chunk-277.txt já foi processado!\n",
      "Documento 150272_chunk-278.txt já foi processado!\n",
      "Documento 150273_chunk-279.txt já foi processado!\n",
      "Documento 150273_chunk-280.txt já foi processado!\n",
      "Documento 150273_chunk-281.txt já foi processado!\n",
      "Documento 150274_chunk-282.txt já foi processado!\n",
      "Documento 150274_chunk-283.txt já foi processado!\n",
      "Documento 150274_chunk-284.txt já foi processado!\n",
      "Documento 150274_chunk-285.txt já foi processado!\n",
      "Documento 150275_chunk-286.txt já foi processado!\n",
      "Documento 150275_chunk-287.txt já foi processado!\n",
      "Documento 150275_chunk-288.txt já foi processado!\n",
      "Documento 150276_chunk-289.txt já foi processado!\n",
      "Documento 150277_chunk-290.txt já foi processado!\n",
      "Documento 150277_chunk-291.txt já foi processado!\n",
      "Documento 150277_chunk-292.txt já foi processado!\n",
      "Documento 150277_chunk-293.txt já foi processado!\n",
      "Documento 150277_chunk-294.txt já foi processado!\n",
      "Documento 150277_chunk-295.txt já foi processado!\n",
      "Documento 150277_chunk-296.txt já foi processado!\n",
      "Documento 150277_chunk-297.txt já foi processado!\n",
      "Documento 150277_chunk-298.txt já foi processado!\n",
      "Documento 150277_chunk-299.txt já foi processado!\n",
      "Documento 150277_chunk-300.txt já foi processado!\n",
      "Documento 150278_chunk-301.txt já foi processado!\n",
      "Documento 150278_chunk-302.txt já foi processado!\n",
      "Documento 150279_chunk-303.txt já foi processado!\n",
      "Documento 150279_chunk-304.txt já foi processado!\n",
      "Documento 150279_chunk-305.txt já foi processado!\n",
      "Documento 150279_chunk-306.txt já foi processado!\n",
      "Documento 150279_chunk-307.txt já foi processado!\n",
      "Documento 150279_chunk-308.txt já foi processado!\n",
      "Documento 150280_chunk-309.txt já foi processado!\n",
      "Documento 150280_chunk-310.txt já foi processado!\n",
      "Documento 150281_chunk-311.txt já foi processado!\n",
      "Documento 150281_chunk-312.txt já foi processado!\n",
      "Documento 150281_chunk-313.txt já foi processado!\n",
      "Documento 150281_chunk-314.txt já foi processado!\n",
      "Documento 150281_chunk-315.txt já foi processado!\n",
      "Documento 150281_chunk-316.txt já foi processado!\n",
      "Documento 150281_chunk-317.txt já foi processado!\n",
      "Documento 150281_chunk-318.txt já foi processado!\n",
      "Documento 150281_chunk-319.txt já foi processado!\n",
      "Documento 150281_chunk-320.txt já foi processado!\n",
      "Documento 150281_chunk-321.txt já foi processado!\n",
      "Documento 150281_chunk-322.txt já foi processado!\n",
      "Documento 150281_chunk-323.txt já foi processado!\n",
      "Documento 150281_chunk-324.txt já foi processado!\n",
      "Documento 150281_chunk-325.txt já foi processado!\n",
      "Documento 150281_chunk-326.txt já foi processado!\n",
      "Documento 150281_chunk-327.txt já foi processado!\n",
      "Documento 150281_chunk-328.txt já foi processado!\n",
      "Documento 150281_chunk-329.txt já foi processado!\n",
      "Documento 150282_chunk-330.txt já foi processado!\n",
      "Documento 150282_chunk-331.txt já foi processado!\n",
      "Documento 150282_chunk-332.txt já foi processado!\n",
      "Documento 150282_chunk-333.txt já foi processado!\n",
      "Documento 150282_chunk-334.txt já foi processado!\n",
      "Documento 150282_chunk-335.txt já foi processado!\n",
      "Documento 150282_chunk-336.txt já foi processado!\n",
      "Documento 150282_chunk-337.txt já foi processado!\n",
      "Documento 150282_chunk-338.txt já foi processado!\n",
      "Documento 150283_chunk-339.txt já foi processado!\n",
      "Documento 150283_chunk-340.txt já foi processado!\n",
      "Documento 150283_chunk-341.txt já foi processado!\n",
      "Documento 150283_chunk-342.txt já foi processado!\n",
      "Documento 150283_chunk-343.txt já foi processado!\n",
      "Documento 150284_chunk-344.txt já foi processado!\n",
      "Documento 150284_chunk-345.txt já foi processado!\n",
      "Documento 150285_chunk-346.txt já foi processado!\n",
      "Documento 150285_chunk-347.txt já foi processado!\n",
      "Documento 150286_chunk-348.txt já foi processado!\n",
      "Documento 150286_chunk-349.txt já foi processado!\n",
      "Documento 150287_chunk-350.txt já foi processado!\n",
      "Documento 150288_chunk-351.txt já foi processado!\n",
      "Documento 150288_chunk-352.txt já foi processado!\n",
      "Documento 150288_chunk-353.txt já foi processado!\n",
      "Documento 150288_chunk-354.txt já foi processado!\n",
      "Documento 150289_chunk-355.txt já foi processado!\n",
      "Documento 150290_chunk-356.txt já foi processado!\n",
      "Documento 150290_chunk-357.txt já foi processado!\n",
      "Documento 150291_chunk-358.txt já foi processado!\n",
      "Documento 150292_chunk-359.txt já foi processado!\n",
      "Documento 150292_chunk-360.txt já foi processado!\n",
      "Documento 150292_chunk-361.txt já foi processado!\n",
      "Documento 150292_chunk-362.txt já foi processado!\n",
      "Documento 150292_chunk-363.txt já foi processado!\n",
      "Documento 150292_chunk-364.txt já foi processado!\n",
      "Documento 150293_chunk-365.txt já foi processado!\n",
      "Documento 150293_chunk-366.txt já foi processado!\n",
      "Documento 150293_chunk-367.txt já foi processado!\n",
      "Documento 150294_chunk-368.txt já foi processado!\n",
      "Documento 150294_chunk-369.txt já foi processado!\n",
      "Documento 150294_chunk-370.txt já foi processado!\n",
      "Documento 150294_chunk-371.txt já foi processado!\n",
      "Documento 150294_chunk-372.txt já foi processado!\n",
      "Documento 150294_chunk-373.txt já foi processado!\n",
      "Documento 150294_chunk-374.txt já foi processado!\n",
      "Documento 150294_chunk-375.txt já foi processado!\n",
      "Documento 150295_chunk-376.txt já foi processado!\n",
      "Documento 150295_chunk-377.txt já foi processado!\n",
      "Documento 150296_chunk-378.txt já foi processado!\n",
      "Documento 150296_chunk-379.txt já foi processado!\n",
      "Documento 150296_chunk-380.txt já foi processado!\n",
      "Documento 150297_chunk-381.txt já foi processado!\n",
      "Documento 150297_chunk-382.txt já foi processado!\n",
      "Documento 150298_chunk-383.txt já foi processado!\n",
      "Documento 150298_chunk-384.txt já foi processado!\n",
      "Documento 150298_chunk-385.txt já foi processado!\n",
      "Documento 150299_chunk-386.txt já foi processado!\n",
      "Documento 150300_chunk-387.txt já foi processado!\n",
      "Documento 150300_chunk-388.txt já foi processado!\n",
      "Documento 150300_chunk-389.txt já foi processado!\n",
      "Documento 150300_chunk-390.txt já foi processado!\n",
      "Documento 150300_chunk-391.txt já foi processado!\n",
      "Documento 150300_chunk-392.txt já foi processado!\n",
      "Documento 150301_chunk-393.txt já foi processado!\n",
      "Documento 150301_chunk-394.txt já foi processado!\n",
      "Documento 150301_chunk-395.txt já foi processado!\n",
      "Documento 150301_chunk-396.txt já foi processado!\n",
      "Documento 150302_chunk-397.txt já foi processado!\n",
      "Documento 150302_chunk-398.txt já foi processado!\n",
      "Documento 150302_chunk-399.txt já foi processado!\n",
      "Documento 150302_chunk-400.txt já foi processado!\n",
      "Documento 150302_chunk-401.txt já foi processado!\n",
      "Documento 150303_chunk-402.txt já foi processado!\n",
      "Documento 150303_chunk-403.txt já foi processado!\n",
      "Documento 150303_chunk-404.txt já foi processado!\n",
      "Documento 150304_chunk-405.txt já foi processado!\n",
      "Documento 150304_chunk-406.txt já foi processado!\n",
      "Documento 150304_chunk-407.txt já foi processado!\n",
      "Documento 150304_chunk-408.txt já foi processado!\n",
      "Documento 150304_chunk-409.txt já foi processado!\n",
      "Documento 150304_chunk-410.txt já foi processado!\n",
      "Documento 150305_chunk-411.txt já foi processado!\n",
      "Documento 150305_chunk-412.txt já foi processado!\n",
      "Documento 150305_chunk-413.txt já foi processado!\n",
      "Documento 150305_chunk-414.txt já foi processado!\n",
      "Documento 150305_chunk-415.txt já foi processado!\n",
      "Documento 150305_chunk-416.txt já foi processado!\n",
      "Documento 150305_chunk-417.txt já foi processado!\n",
      "Documento 150305_chunk-418.txt já foi processado!\n",
      "Documento 150305_chunk-419.txt já foi processado!\n",
      "Documento 150306_chunk-420.txt já foi processado!\n",
      "Documento 150306_chunk-421.txt já foi processado!\n",
      "Documento 150306_chunk-422.txt já foi processado!\n",
      "Documento 150306_chunk-423.txt já foi processado!\n",
      "Documento 150307_chunk-424.txt já foi processado!\n",
      "Documento 150307_chunk-425.txt já foi processado!\n",
      "Documento 150307_chunk-426.txt já foi processado!\n",
      "Documento 150307_chunk-427.txt já foi processado!\n",
      "Documento 150307_chunk-428.txt já foi processado!\n",
      "Documento 150307_chunk-429.txt já foi processado!\n",
      "Documento 150307_chunk-430.txt já foi processado!\n",
      "Documento 150307_chunk-431.txt já foi processado!\n",
      "Documento 150307_chunk-432.txt já foi processado!\n",
      "Documento 150308_chunk-433.txt já foi processado!\n",
      "Documento 150308_chunk-434.txt já foi processado!\n",
      "Documento 150308_chunk-435.txt já foi processado!\n",
      "Documento 150308_chunk-436.txt já foi processado!\n",
      "Documento 150308_chunk-437.txt já foi processado!\n",
      "Documento 150308_chunk-438.txt já foi processado!\n",
      "Documento 150308_chunk-439.txt já foi processado!\n",
      "Documento 150308_chunk-440.txt já foi processado!\n",
      "Documento 150308_chunk-441.txt já foi processado!\n",
      "Documento 150308_chunk-442.txt já foi processado!\n",
      "Documento 150308_chunk-443.txt já foi processado!\n",
      "Documento 150309_chunk-444.txt já foi processado!\n",
      "Documento 150309_chunk-445.txt já foi processado!\n",
      "Documento 150309_chunk-446.txt já foi processado!\n",
      "Documento 150309_chunk-447.txt já foi processado!\n",
      "Documento 150309_chunk-448.txt já foi processado!\n",
      "Documento 150310_chunk-449.txt já foi processado!\n",
      "Documento 150310_chunk-450.txt já foi processado!\n",
      "Documento 150310_chunk-451.txt já foi processado!\n",
      "Documento 150310_chunk-452.txt já foi processado!\n",
      "Documento 150310_chunk-453.txt já foi processado!\n",
      "Documento 150310_chunk-454.txt já foi processado!\n",
      "Documento 150311_chunk-455.txt já foi processado!\n",
      "Documento 150311_chunk-456.txt já foi processado!\n",
      "Documento 150311_chunk-457.txt já foi processado!\n",
      "Documento 150311_chunk-458.txt já foi processado!\n",
      "Documento 150312_chunk-459.txt já foi processado!\n",
      "Documento 150312_chunk-460.txt já foi processado!\n",
      "Documento 150312_chunk-461.txt já foi processado!\n"
     ]
    },
    {
     "name": "stderr",
     "output_type": "stream",
     "text": [
      " 24%|██▍       | 463/1901 [00:04<00:18, 78.81it/s]  "
     ]
    },
    {
     "name": "stdout",
     "output_type": "stream",
     "text": [
      "A taxa de compressão do chunk 462 foi de 63.32 %\n",
      "A taxa de compressão do chunk 463 foi de 53.33 %\n",
      "A taxa de compressão do chunk 464 foi de 69.79 %\n"
     ]
    },
    {
     "name": "stderr",
     "output_type": "stream",
     "text": [
      " 25%|██▍       | 466/1901 [00:20<01:54, 12.55it/s]"
     ]
    },
    {
     "name": "stdout",
     "output_type": "stream",
     "text": [
      "A taxa de compressão do chunk 465 foi de 24.63 %\n"
     ]
    },
    {
     "name": "stderr",
     "output_type": "stream",
     "text": [
      " 25%|██▍       | 467/1901 [00:25<02:37,  9.10it/s]"
     ]
    },
    {
     "name": "stdout",
     "output_type": "stream",
     "text": [
      "A taxa de compressão do chunk 466 foi de 59.41 %\n",
      "A taxa de compressão do chunk 467 foi de 20.57 %\n",
      "A taxa de compressão do chunk 468 foi de 61.3 %\n",
      "A taxa de compressão do chunk 469 foi de 45.64 %\n"
     ]
    },
    {
     "name": "stderr",
     "output_type": "stream",
     "text": [
      " 25%|██▍       | 471/1901 [00:43<06:01,  3.96it/s]"
     ]
    },
    {
     "name": "stdout",
     "output_type": "stream",
     "text": [
      "A taxa de compressão do chunk 470 foi de 53.48 %\n"
     ]
    },
    {
     "name": "stderr",
     "output_type": "stream",
     "text": [
      " 25%|██▍       | 472/1901 [00:47<07:01,  3.39it/s]"
     ]
    },
    {
     "name": "stdout",
     "output_type": "stream",
     "text": [
      "A taxa de compressão do chunk 471 foi de 60.24 %\n",
      "A taxa de compressão do chunk 472 foi de 42.07 %\n",
      "A taxa de compressão do chunk 473 foi de 76.62 %\n",
      "A taxa de compressão do chunk 474 foi de 62.49 %\n",
      "A taxa de compressão do chunk 475 foi de 71.33 %\n"
     ]
    },
    {
     "name": "stderr",
     "output_type": "stream",
     "text": [
      " 25%|██▌       | 477/1901 [01:06<13:30,  1.76it/s]"
     ]
    },
    {
     "name": "stdout",
     "output_type": "stream",
     "text": [
      "A taxa de compressão do chunk 476 foi de 40.66 %\n"
     ]
    },
    {
     "name": "stderr",
     "output_type": "stream",
     "text": [
      " 25%|██▌       | 478/1901 [01:09<14:50,  1.60it/s]"
     ]
    },
    {
     "name": "stdout",
     "output_type": "stream",
     "text": [
      "A taxa de compressão do chunk 477 foi de 49.07 %\n",
      "A taxa de compressão do chunk 478 foi de 53.93 %\n",
      "A taxa de compressão do chunk 479 foi de 17.79 %\n"
     ]
    },
    {
     "name": "stderr",
     "output_type": "stream",
     "text": [
      " 25%|██▌       | 481/1901 [01:20<20:42,  1.14it/s]"
     ]
    },
    {
     "name": "stdout",
     "output_type": "stream",
     "text": [
      "A taxa de compressão do chunk 480 foi de 67.11 %\n"
     ]
    },
    {
     "name": "stderr",
     "output_type": "stream",
     "text": [
      " 25%|██▌       | 482/1901 [01:26<24:45,  1.05s/it]"
     ]
    },
    {
     "name": "stdout",
     "output_type": "stream",
     "text": [
      "A taxa de compressão do chunk 481 foi de 69.26 %\n",
      "A taxa de compressão do chunk 482 foi de 57.11 %\n",
      "A taxa de compressão do chunk 483 foi de 71.25 %\n",
      "A taxa de compressão do chunk 484 foi de 64.93 %\n"
     ]
    },
    {
     "name": "stderr",
     "output_type": "stream",
     "text": [
      " 26%|██▌       | 486/1901 [01:41<36:26,  1.55s/it]"
     ]
    },
    {
     "name": "stdout",
     "output_type": "stream",
     "text": [
      "A taxa de compressão do chunk 485 foi de 70.14 %\n"
     ]
    },
    {
     "name": "stderr",
     "output_type": "stream",
     "text": [
      " 26%|██▌       | 487/1901 [01:45<39:50,  1.69s/it]"
     ]
    },
    {
     "name": "stdout",
     "output_type": "stream",
     "text": [
      "A taxa de compressão do chunk 486 foi de 66.87 %\n",
      "A taxa de compressão do chunk 487 foi de 43.98 %\n",
      "A taxa de compressão do chunk 488 foi de 71.66 %\n",
      "A taxa de compressão do chunk 489 foi de 68.2 %\n"
     ]
    },
    {
     "name": "stderr",
     "output_type": "stream",
     "text": [
      " 26%|██▌       | 491/1901 [02:02<54:56,  2.34s/it]"
     ]
    },
    {
     "name": "stdout",
     "output_type": "stream",
     "text": [
      "A taxa de compressão do chunk 490 foi de 57.45 %\n"
     ]
    },
    {
     "name": "stderr",
     "output_type": "stream",
     "text": [
      " 26%|██▌       | 492/1901 [02:08<1:03:17,  2.70s/it]"
     ]
    },
    {
     "name": "stdout",
     "output_type": "stream",
     "text": [
      "A taxa de compressão do chunk 491 foi de 39.52 %\n",
      "A taxa de compressão do chunk 492 foi de 34.53 %\n",
      "A taxa de compressão do chunk 493 foi de 64.27 %\n"
     ]
    },
    {
     "name": "stderr",
     "output_type": "stream",
     "text": [
      " 26%|██▌       | 495/1901 [02:20<1:09:57,  2.99s/it]"
     ]
    },
    {
     "name": "stdout",
     "output_type": "stream",
     "text": [
      "A taxa de compressão do chunk 494 foi de 46.45 %\n"
     ]
    },
    {
     "name": "stderr",
     "output_type": "stream",
     "text": [
      " 26%|██▌       | 496/1901 [02:24<1:13:38,  3.14s/it]"
     ]
    },
    {
     "name": "stdout",
     "output_type": "stream",
     "text": [
      "A taxa de compressão do chunk 495 foi de 56.15 %\n",
      "A taxa de compressão do chunk 496 foi de 57.82 %\n",
      "A taxa de compressão do chunk 497 foi de 66.06 %\n",
      "A taxa de compressão do chunk 498 foi de 53.71 %\n"
     ]
    },
    {
     "name": "stderr",
     "output_type": "stream",
     "text": [
      " 26%|██▋       | 500/1901 [02:41<1:22:47,  3.55s/it]"
     ]
    },
    {
     "name": "stdout",
     "output_type": "stream",
     "text": [
      "A taxa de compressão do chunk 499 foi de 60.16 %\n"
     ]
    },
    {
     "name": "stderr",
     "output_type": "stream",
     "text": [
      " 26%|██▋       | 501/1901 [02:46<1:28:46,  3.80s/it]"
     ]
    },
    {
     "name": "stdout",
     "output_type": "stream",
     "text": [
      "A taxa de compressão do chunk 500 foi de 46.61 %\n",
      "A taxa de compressão do chunk 501 foi de 74.47 %\n",
      "A taxa de compressão do chunk 502 foi de 71.33 %\n"
     ]
    },
    {
     "name": "stderr",
     "output_type": "stream",
     "text": [
      " 27%|██▋       | 504/1901 [02:56<1:23:09,  3.57s/it]"
     ]
    },
    {
     "name": "stdout",
     "output_type": "stream",
     "text": [
      "A taxa de compressão do chunk 503 foi de 52.93 %\n",
      "A taxa de compressão do chunk 504 foi de 56.49 %\n",
      "A taxa de compressão do chunk 505 foi de 48.54 %\n"
     ]
    },
    {
     "name": "stderr",
     "output_type": "stream",
     "text": [
      " 27%|██▋       | 507/1901 [03:09<1:28:52,  3.83s/it]"
     ]
    },
    {
     "name": "stdout",
     "output_type": "stream",
     "text": [
      "A taxa de compressão do chunk 506 foi de 57.17 %\n"
     ]
    },
    {
     "name": "stderr",
     "output_type": "stream",
     "text": [
      " 27%|██▋       | 508/1901 [03:12<1:25:48,  3.70s/it]"
     ]
    },
    {
     "name": "stdout",
     "output_type": "stream",
     "text": [
      "A taxa de compressão do chunk 507 foi de 73.97 %\n",
      "A taxa de compressão do chunk 508 foi de 32.0 %\n"
     ]
    },
    {
     "name": "stderr",
     "output_type": "stream",
     "text": [
      " 27%|██▋       | 510/1901 [03:19<1:26:46,  3.74s/it]"
     ]
    },
    {
     "name": "stdout",
     "output_type": "stream",
     "text": [
      "A taxa de compressão do chunk 509 foi de 45.51 %\n"
     ]
    },
    {
     "name": "stderr",
     "output_type": "stream",
     "text": [
      " 27%|██▋       | 510/1901 [03:30<1:26:46,  3.74s/it]"
     ]
    }
   ],
   "source": [
    "log_compress_rate = []\n",
    "path = '.\\\\processed_dataset\\\\processed_input\\\\'\n",
    "path_out = '.\\\\processed_dataset\\\\processed_output\\\\'\n",
    "\n",
    "for i in tqdm(range(0, len(df['chunk']))):\n",
    "        \n",
    "        chunk_name = \"{}_chunk-{}\".format(df['file_name'][i], i).replace(\".txt\", \"\") + \".txt\"\n",
    "\n",
    "        if chunk_name in os.listdir(path):\n",
    "                                \n",
    "                print(\"Documento {} já foi processado!\".format(chunk_name))\n",
    "\n",
    "        else:\n",
    "\n",
    "                completion = openai.ChatCompletion.create(\n",
    "                model=\"gpt-3.5-turbo\",\n",
    "                messages=[\n",
    "                        {\"role\": \"system\", \"content\": \"\"},\n",
    "                        {\"role\": \"user\", \"content\": prompt_template.format(input=df['chunk'][i])},\n",
    "                ],\n",
    "                max_tokens = 256,\n",
    "                temperature = 0\n",
    "                        )\n",
    "\n",
    "                with open(path + chunk_name, 'w', encoding='utf-8') as f:\n",
    "                                f.write(prompt_template.format(input=df['chunk'][i]))\n",
    "\n",
    "\n",
    "                resposta = completion['choices'][0]['message']['content']\n",
    "\n",
    "                with open(path_out + chunk_name, 'w', encoding='utf-8') as f:\n",
    "                                f.write(resposta)\n",
    "\n",
    "                log_compress_rate.append(\"A taxa de compressão do chunk {} foi de {} %\".format(i, round((1-(len(resposta)/len(df['chunk'][i])))*100,2)))\n",
    "\n",
    "                print(\"A taxa de compressão do chunk {} foi de {} %\".format(i, round((1-(len(resposta)/len(df['chunk'][i])))*100,2)))"
   ]
  }
 ],
 "metadata": {
  "kernelspec": {
   "display_name": "dataset_ft",
   "language": "python",
   "name": "python3"
  },
  "language_info": {
   "codemirror_mode": {
    "name": "ipython",
    "version": 3
   },
   "file_extension": ".py",
   "mimetype": "text/x-python",
   "name": "python",
   "nbconvert_exporter": "python",
   "pygments_lexer": "ipython3",
   "version": "3.11.5"
  }
 },
 "nbformat": 4,
 "nbformat_minor": 2
}
