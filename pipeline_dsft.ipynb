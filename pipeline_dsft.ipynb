{
 "cells": [
  {
   "cell_type": "code",
   "execution_count": 53,
   "metadata": {},
   "outputs": [],
   "source": [
    "from pprint import pprint\n",
    "import jsonlines\n",
    "import pandas as pd\n",
    "from dotenv import load_dotenv\n",
    "import openai\n",
    "import os\n",
    "\n",
    "load_dotenv()\n",
    "openai.api_key = os.getenv(\"OPENAI_API_KEY\")"
   ]
  },
  {
   "cell_type": "markdown",
   "metadata": {},
   "source": [
    "#### Importar dataset"
   ]
  },
  {
   "cell_type": "code",
   "execution_count": null,
   "metadata": {},
   "outputs": [],
   "source": [
    "#import dataset"
   ]
  },
  {
   "cell_type": "markdown",
   "metadata": {},
   "source": [
    "#### Prompt Template:\n",
    "\n",
    "Nessa seção será definida a estrutura do _template_ que será utilizado para a geração dos _prompts_.\n",
    "\n",
    "O template é composto por uma lista de _strings_, onde cada _string_ representa uma linha do _prompt_. Ele será definido na variável ``prompt_template`` e pode ser alterado conforme a necessidade."
   ]
  },
  {
   "cell_type": "code",
   "execution_count": 46,
   "metadata": {},
   "outputs": [],
   "source": [
    "prompt_template = \"\"\"Sua Tarefa resumir ao máximo o Texto fornecido, porém mantendo os principais pontos. \n",
    "\n",
    "### Texto:\n",
    "{input}\n",
    "\n",
    "### Resumo:\"\"\""
   ]
  },
  {
   "cell_type": "code",
   "execution_count": null,
   "metadata": {},
   "outputs": [],
   "source": [
    "# criar uma estrutura de dicionário com input e output:\n",
    "#{'input': 'prompt_template.format(input)', 'output': 'resumo'}"
   ]
  },
  {
   "cell_type": "code",
   "execution_count": 47,
   "metadata": {},
   "outputs": [],
   "source": [
    "input_text = \"\"\" \"\"\""
   ]
  },
  {
   "cell_type": "code",
   "execution_count": 48,
   "metadata": {},
   "outputs": [
    {
     "data": {
      "text/plain": [
       "'Sua Tarefa resumir ao máximo o Texto fornecido, porém mantendo os principais pontos. \\n\\n### Texto:\\n\\nA Previ fechou nesta quinta-feira, 9, a venda de sua participação de 17,48% no capital da fabricante de silos Kepler Weber para a AGCO. O negócio injetará cerca de R$ 100 milhões no caixa do fundo de pensão dos funcionários do Banco do Brasil e reforça a estratégia de aproveitar oportunidades de desinvestimento e concentrar participações em ativos com alta liquidez.\\n\\n### Resumo:'"
      ]
     },
     "execution_count": 48,
     "metadata": {},
     "output_type": "execute_result"
    }
   ],
   "source": [
    "prompt_template.format(input=input_text)"
   ]
  },
  {
   "cell_type": "code",
   "execution_count": 49,
   "metadata": {},
   "outputs": [
    {
     "name": "stdout",
     "output_type": "stream",
     "text": [
      "A Previ vendeu sua participação na Kepler Weber para a AGCO, injetando cerca de R$ 100 milhões no caixa do fundo de pensão dos funcionários do Banco do Brasil. Isso faz parte da estratégia de desinvestimento e concentração em ativos líquidos.\n"
     ]
    }
   ],
   "source": [
    "completion = openai.ChatCompletion.create(\n",
    "  model=\"gpt-3.5-turbo\",\n",
    "  messages=[\n",
    "            {\"role\": \"system\", \"content\": \"\"},\n",
    "            {\"role\": \"user\", \"content\": prompt_template.format(input=input_text)},\n",
    "    ],\n",
    "    max_tokens = 256,\n",
    "    temperature = 0\n",
    "        )\n",
    "\n",
    "resposta = completion['choices'][0]['message']['content']\n",
    "print(resposta)"
   ]
  },
  {
   "cell_type": "code",
   "execution_count": 50,
   "metadata": {},
   "outputs": [
    {
     "name": "stdout",
     "output_type": "stream",
     "text": [
      "O texto de entrada tinha 369 caracteres, e o resumo gerado tem 242 caracteres\n",
      "\n",
      "\n",
      "A redução foi de 34.42 %\n"
     ]
    }
   ],
   "source": [
    "print(\"O texto de entrada tinha {} caracteres, e o resumo gerado tem {} caracteres\".format(len(input_text), len(resposta)))\n",
    "print(\"\\n\")\n",
    "print(\"A redução foi de {} %\".format(round((1-(len(resposta)/len(input_text)))*100,2)))"
   ]
  },
  {
   "cell_type": "code",
   "execution_count": 6,
   "metadata": {},
   "outputs": [
    {
     "data": {
      "text/plain": [
       "'Sua Tarefa é identificar os principais pontos do Texto abaixo, e então criar um resumo. \\n\\n### Texto:\\n{input}\\n\\n### Resumo:'"
      ]
     },
     "execution_count": 6,
     "metadata": {},
     "output_type": "execute_result"
    }
   ],
   "source": [
    "prompt_template"
   ]
  }
 ],
 "metadata": {
  "kernelspec": {
   "display_name": "dataset_ft",
   "language": "python",
   "name": "python3"
  },
  "language_info": {
   "codemirror_mode": {
    "name": "ipython",
    "version": 3
   },
   "file_extension": ".py",
   "mimetype": "text/x-python",
   "name": "python",
   "nbconvert_exporter": "python",
   "pygments_lexer": "ipython3",
   "version": "3.11.5"
  }
 },
 "nbformat": 4,
 "nbformat_minor": 2
}
